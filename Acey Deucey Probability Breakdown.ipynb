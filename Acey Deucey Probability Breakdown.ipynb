{
 "cells": [
  {
   "cell_type": "markdown",
   "metadata": {},
   "source": [
    "# Acey Deucey Probability Breakdown"
   ]
  },
  {
   "cell_type": "markdown",
   "metadata": {},
   "source": [
    "## Creating the Probability Distribution"
   ]
  },
  {
   "cell_type": "markdown",
   "metadata": {},
   "source": [
    "Let P(A) = Probability that a given bet wins <br>\n",
    "Need to create a PMF since outcomes are discrete... <br>\n"
   ]
  },
  {
   "cell_type": "markdown",
   "metadata": {},
   "source": [
    "$ P(A) = \\frac{i-j-1}{13} $ where i,j are high and low card showing, respectively"
   ]
  },
  {
   "cell_type": "markdown",
   "metadata": {},
   "source": [
    "This formula assumes replacement... which is not realistic, but a good starting point"
   ]
  },
  {
   "cell_type": "markdown",
   "metadata": {},
   "source": [
    "### Considering Expected Value"
   ]
  },
  {
   "cell_type": "markdown",
   "metadata": {},
   "source": [
    "Upon first glance, it seems that we should bet when $ P(A) > 50 $%... However, the catch to the game is that you can \"post,\" and lose double your bet. So, instead of betting the probability, we must bet the expected value."
   ]
  },
  {
   "cell_type": "markdown",
   "metadata": {},
   "source": [
    "We will now define the return function... <br>\n",
    "$ R(win) = x $ if i < k < j <br>\n",
    "$ R(loss) = -x $ if k > i OR k < j <br>\n",
    "$ R(post) = -2x $ if i < k < j <br>\n",
    "Where x represents the value of the bet and k represents the value of the third card"
   ]
  },
  {
   "cell_type": "markdown",
   "metadata": {},
   "source": [
    "### Creating a Counting Strategy to Create Better Distribution"
   ]
  },
  {
   "cell_type": "markdown",
   "metadata": {},
   "source": [
    "Let's play a test round... <br>\n",
    "1. Dealer deals a 3 and a King <br>\n",
    "$ E(A) = \\sum_{n=1}^{3}P(n)*R(n) = P(win)*R(win)+P(loss)*R(loss)+P(post)*P(post) $ <br>\n",
    "$ E(A) = \\frac{9}{13} * x + \\frac{2}{13} * -x + \\frac{2}{13}* -2x = \\frac{5x}{13}$ <br>\n",
    "We have a positive expected return, so we would choose to bet in this scenerion and expect a return of $ \\frac{5}{13} $ of our bet. <br>\n",
    "A. We bet 10, Dealer deals a 5... we win! Return is 10.\n",
    "2. Dealer deals a 4 and a Queen <br>\n",
    "$ E(A) = \\sum_{n=1}^{3}P(n)*R(n) = P(win)*R(win)+P(loss)*R(loss)+P(post)*P(post) $ <br>\n",
    "$ E(A) = \\frac{7*4-1}{52-5} * x + \\frac{4*4-2}{52-5} * -x + \\frac{2*4}{52-5}* -2x = \\frac{-3x}{47}$ <br>\n",
    "Negative expected return... we don't bet. Let's look at what's happening here..."
   ]
  },
  {
   "cell_type": "markdown",
   "metadata": {},
   "source": [
    "$ P(win) = \\frac{Cards between i and j}{Cards Remaining} $\n",
    "$ P(loss) = \\frac{Cards outside i and j}{Cards Remaining} $\n",
    "$ P(post) = \\frac{Cards =i and j}{Cards Remaining} $"
   ]
  },
  {
   "cell_type": "markdown",
   "metadata": {},
   "source": [
    "### Basic Strategy"
   ]
  },
  {
   "cell_type": "markdown",
   "metadata": {},
   "source": [
    "$ P(win | spread) = \\frac{spread-1}{13}$"
   ]
  },
  {
   "cell_type": "markdown",
   "metadata": {},
   "source": [
    "$0.5 = \\frac{spread-1}{13}$"
   ]
  },
  {
   "cell_type": "markdown",
   "metadata": {},
   "source": [
    "$ 6.5 = spread - 1 $"
   ]
  },
  {
   "cell_type": "markdown",
   "metadata": {},
   "source": [
    "Spread = 7.5 for P(win) = 0.5... therefore spread must be 8 to be greater that 50% odds without considering posting or non replacement in the deck."
   ]
  },
  {
   "cell_type": "markdown",
   "metadata": {},
   "source": [
    "Example 8 card spreads: Queen/4, King/5, High Ace/6, Jack/3, 10/2, 9/Low Ace"
   ]
  },
  {
   "cell_type": "markdown",
   "metadata": {},
   "source": [
    "So basic strategy will be to bet 8 card spreads with a counting strategy..."
   ]
  },
  {
   "cell_type": "markdown",
   "metadata": {},
   "source": [
    "### Counting Strategy"
   ]
  },
  {
   "cell_type": "markdown",
   "metadata": {},
   "source": [
    "Let's use our middle-most betting hand (Queen/4) to define our first negative cards... <br>\n",
    "Therefore, 5-Jack are all negative value cards. <br>\n",
    "7,8 have NO chance of hurting us with our betting strategy, so let's define them as -2, and all others as -1."
   ]
  },
  {
   "cell_type": "markdown",
   "metadata": {},
   "source": [
    "Now let's look at our positive cards... <br>\n",
    "Ace will be defined as +2, with 2-4 and Queen, King being +1"
   ]
  },
  {
   "cell_type": "markdown",
   "metadata": {},
   "source": [
    "|Card|Value|\n",
    "|---|---|\n",
    "|Ace|+2|\n",
    "|2|+1|\n",
    "|3|+1|\n",
    "|4|+1|\n",
    "|5|-1|\n",
    "|6|-1|\n",
    "|7|-2|\n",
    "|8|-2|\n",
    "|9|-1|\n",
    "|10|-1|\n",
    "|Jack|-1|\n",
    "|Queen|+1|\n",
    "|King|+1|"
   ]
  },
  {
   "cell_type": "markdown",
   "metadata": {},
   "source": [
    "# Simulation"
   ]
  },
  {
   "cell_type": "code",
   "execution_count": 26,
   "metadata": {},
   "outputs": [],
   "source": [
    "from random import randrange\n",
    "\n",
    "class Card:\n",
    "    def __init__(self, value, color):\n",
    "        self.value = value\n",
    "        self.color = color"
   ]
  },
  {
   "cell_type": "code",
   "execution_count": 27,
   "metadata": {},
   "outputs": [],
   "source": [
    "num_players = 10\n",
    "min_bet = num_players\n",
    "count = 0\n",
    "correct_bets = []"
   ]
  },
  {
   "cell_type": "code",
   "execution_count": 56,
   "metadata": {},
   "outputs": [],
   "source": [
    "def play_round(num_rounds, spread_to_bet, count_values, print_round=True):\n",
    "    returns = 0\n",
    "    correct_bets_round_num = 0\n",
    "    correct_bets_round_denom = 0\n",
    "    colors = ['Hearts', 'Diamonds', 'Spades', 'Clubs']\n",
    "    values = ['Ace', 2, 3, 4, 5, 6, 7, 8, 9, 10, 11, 12, 13]\n",
    "    deck = [Card(value, color) for value in values for color in colors]\n",
    "    count = 0\n",
    "    pot = 10\n",
    "    for r in range(num_rounds):\n",
    "        if print_round:\n",
    "            print(f'______________________ROUND {r+1}______________________')\n",
    "        last_cards = []\n",
    "        for player in range(num_players):\n",
    "            if len(deck) < 3:\n",
    "                deck = [Card(value, color) for value in values for color in colors]\n",
    "                if print_round:\n",
    "                    print(f'New Deck!')\n",
    "                count = 0\n",
    "            left_card = deck.pop(randrange(len(deck)))\n",
    "            right_card = deck.pop(randrange(len(deck)))\n",
    "            if print_round:\n",
    "                print(f'Player {player} is dealt: {left_card.value} of {left_card.color} , {right_card.value} of {right_card.color}')\n",
    "            count += count_values[left_card.value]\n",
    "            count += count_values[right_card.value]\n",
    "            if left_card.value == 'Ace':\n",
    "                left_card.value = 1\n",
    "            if right_card.value == 'Ace':\n",
    "                right_card.value = 14\n",
    "            spread = abs(right_card.value - left_card.value)\n",
    "            bet = 0\n",
    "            outer_cards = [min(right_card.value,left_card.value), max(right_card.value,left_card.value)]\n",
    "            if player == 1 and not bet_placed:\n",
    "                if left_card.value <= last_cards[0] or left_card.value >= last_cards[1]:\n",
    "                    correct_bets_round_num += 1\n",
    "                    if print_round:\n",
    "                        print('Good bet')\n",
    "                correct_bets_round_denom += 1\n",
    "            if player == 0:\n",
    "                if spread >= spread_to_bet:\n",
    "                    bet_placed = True\n",
    "                    if count > 0:\n",
    "                        if spread == 6:\n",
    "                            ideal_bet = 10\n",
    "                            bet = min(ideal_bet, pot)\n",
    "                            deck, count, pot, returns = deal_middle_card(deck, outer_cards, count, pot, bet, player, returns, print_round)\n",
    "                        elif spread == 7:\n",
    "                            ideal_bet = 10\n",
    "                            bet = min(ideal_bet, pot)\n",
    "                            deck, count, pot, returns = deal_middle_card(deck, outer_cards, count, pot, bet, player, returns, print_round)\n",
    "                        elif spread == 8:\n",
    "                            ideal_bet = 20\n",
    "                            bet = min(ideal_bet, pot)\n",
    "                            deck, count, pot, returns = deal_middle_card(deck, outer_cards, count, pot, bet, player, returns, print_round)\n",
    "                        elif spread == 9:\n",
    "                            ideal_bet = 30\n",
    "                            bet = min(ideal_bet, pot)\n",
    "                            deck, count, pot, returns = deal_middle_card(deck, outer_cards, count, pot, bet, player, returns, print_round)\n",
    "                        elif spread == 10:\n",
    "                            ideal_bet = 40\n",
    "                            bet = min(ideal_bet, pot)\n",
    "                            deck, count, pot, returns = deal_middle_card(deck, outer_cards, count, pot, bet, player, returns, print_round)\n",
    "                        elif spread == 11:\n",
    "                            ideal_bet = 40\n",
    "                            bet = min(ideal_bet, pot)\n",
    "                            deck, count, pot, returns = deal_middle_card(deck, outer_cards, count, pot, bet, player, returns, print_round)\n",
    "                        elif spread == 12:\n",
    "                            ideal_bet = 50\n",
    "                            bet = min(ideal_bet, pot)\n",
    "                            deck, count, pot, returns = deal_middle_card(deck, outer_cards, count, pot, bet, player, returns, print_round)\n",
    "                        elif spread == 13:\n",
    "                            bet = pot\n",
    "                            deck, count, pot, returns = deal_middle_card(deck, outer_cards, count, pot, bet, player, returns, print_round)\n",
    "                else:\n",
    "                    last_cards = outer_cards\n",
    "                    bet_placed = False\n",
    "            else:\n",
    "                if spread == 6:\n",
    "                    bet = 10\n",
    "                    deck, count, pot, returns = deal_middle_card(deck, outer_cards, count, pot, bet, player, returns, print_round)\n",
    "                elif spread == 7:\n",
    "                    ideal_bet = 20\n",
    "                    bet = min(ideal_bet, pot)\n",
    "                    deck, count, pot, returns = deal_middle_card(deck, outer_cards, count, pot, bet, player, returns, print_round)\n",
    "                elif spread == 8:\n",
    "                    ideal_bet = 30\n",
    "                    bet = min(ideal_bet, pot)\n",
    "                    deck, count, pot, returns = deal_middle_card(deck, outer_cards, count, pot, bet, player, returns, print_round)\n",
    "                elif spread == 9:\n",
    "                    ideal_bet = 30\n",
    "                    bet = min(ideal_bet, pot)\n",
    "                    deck, count, pot, returns = deal_middle_card(deck, outer_cards, count, pot, bet, player, returns, print_round)\n",
    "                elif spread == 10:\n",
    "                    ideal_bet = 40\n",
    "                    bet = min(ideal_bet, pot)\n",
    "                    deck, count, pot, returns = deal_middle_card(deck, outer_cards, count, pot, bet, player, returns, print_round)\n",
    "                elif spread == 11:\n",
    "                    ideal_bet = 50\n",
    "                    bet = min(ideal_bet, pot)\n",
    "                    deck, count, pot, returns = deal_middle_card(deck, outer_cards, count, pot, bet, player, returns, print_round)\n",
    "                elif spread == 12:\n",
    "                    ideal_bet = 50\n",
    "                    bet = min(ideal_bet, pot)\n",
    "                    deck, count, pot, returns = deal_middle_card(deck, outer_cards, count, pot, bet, player, returns, print_round)\n",
    "                elif spread == 13:\n",
    "                    bet = pot\n",
    "                    deck, count, pot, returns = deal_middle_card(deck, outer_cards, count, pot, bet, player, returns, print_round)\n",
    "        if print_round:\n",
    "            print(f'Count: {count}')\n",
    "        returns -= 1\n",
    "    if correct_bets_round_denom != 0:\n",
    "        correct_bets.append(correct_bets_round_num / correct_bets_round_denom)\n",
    "    return returns, correct_bets\n",
    "\n",
    "\n",
    "def deal_middle_card(deck, outer_cards, count, pot, bet, player, returns, print_round):\n",
    "    middle_card = deck.pop(randrange(len(deck)))\n",
    "    if print_round:\n",
    "        print(f'Middle Card: {middle_card.value} of {middle_card.color}')\n",
    "    count += count_values[middle_card.value]\n",
    "    if middle_card.value == 'Ace':\n",
    "        if outer_cards[0] == 1:\n",
    "            middle_card.value = 1\n",
    "        elif outer_cards[1] == 14:\n",
    "            middle_card.value = 14\n",
    "        else:\n",
    "            middle_card.value = 14\n",
    "    if outer_cards[0] < middle_card.value and middle_card.value < outer_cards[1]:\n",
    "        if player == 0:\n",
    "            returns += bet\n",
    "        pot -= bet\n",
    "        if pot < 10:\n",
    "            pot = 10\n",
    "        if print_round:\n",
    "            print(f'Bet Won! Player {player} wins ${bet}!')\n",
    "    elif middle_card.value == outer_cards[0] or middle_card.value == outer_cards[1]:\n",
    "        if player == 0:\n",
    "            returns -= bet * 2\n",
    "        pot += bet * 2\n",
    "        if print_round:\n",
    "            print(f'POST!!! Suck it player {player}')\n",
    "    else:\n",
    "        if player == 0:\n",
    "            returns -= bet\n",
    "        pot += bet\n",
    "    if player == 0:\n",
    "        if print_round:\n",
    "            print(f'Total Returns: {returns}')\n",
    "    if print_round:\n",
    "        print(f'Pot Value: ${pot}')\n",
    "        \n",
    "    return deck, count, pot, returns"
   ]
  },
  {
   "cell_type": "code",
   "execution_count": 57,
   "metadata": {},
   "outputs": [],
   "source": [
    "# returns = []\n",
    "# spread_to_bet = 8\n",
    "# # count_values = {'Ace': 2, 2:1, 3:1, 4:1, 5:-1, 6:-1, 7:-2, 8:-2, 9:-1, 10:-1, 11:-1, 12:1, 13:1} # Not Great\n",
    "# # count_values = {'Ace': 2, 2:1, 3:1, 4:1, 5:-1, 6:-1, 7:-1, 8:-1, 9:-1, 10:-1, 11:-1, 12:1, 13:1} # 7\n",
    "# count_values = {'Ace': 2, 2:1, 3:1, 4:1, 5:-1, 6:-1, 7:-1, 8:-1, 9:-1, 10:1, 11:1, 12:1, 13:1} # 8 BEST\n",
    "# # count_values = {'Ace': 2, 2:1, 3:1, 4:1, 5:1, 6:-1, 7:-1, 8:-1, 9:-1, 10:-1, 11:-1, 12:1, 13:1} # 6\n",
    "\n",
    "# for i in range(10):\n",
    "#     print(f'------------------------------------------------------TRIAL {i +1}------------------------------------------------------')\n",
    "#     returns.append(play_round(30, spread_to_bet, count_values)[0])\n",
    "\n",
    "    "
   ]
  },
  {
   "cell_type": "code",
   "execution_count": 58,
   "metadata": {},
   "outputs": [],
   "source": [
    "# print(f'Returns Mean: {sum(returns)/len(returns)}')"
   ]
  },
  {
   "cell_type": "code",
   "execution_count": 59,
   "metadata": {},
   "outputs": [],
   "source": [
    "# %%capture\n",
    "# r = []\n",
    "# for i in range(10):\n",
    "#     for i in range(10):\n",
    "#         returns.append(play_round(30, spread_to_bet, count_values))\n",
    "#     r.append(sum(returns)/len(returns))"
   ]
  },
  {
   "cell_type": "code",
   "execution_count": 60,
   "metadata": {},
   "outputs": [],
   "source": [
    "# print(f'Total Winnings: ${round(sum(r)/len(r))}')"
   ]
  },
  {
   "cell_type": "code",
   "execution_count": 61,
   "metadata": {},
   "outputs": [],
   "source": [
    "# print(len(correct_bets))"
   ]
  },
  {
   "cell_type": "code",
   "execution_count": 174,
   "metadata": {},
   "outputs": [],
   "source": [
    "import pandas as pd\n",
    "\n",
    "def run_simulation(num_trials, num_rounds, counting_strategies, spreads):\n",
    "    i = 0\n",
    "    strat_num = len(counting_strategies)\n",
    "    column_names = []\n",
    "    max_returns = 0\n",
    "    optimal = [0,0]\n",
    "    for i in range(strat_num):\n",
    "        column_names.append(f'Counting Strategy {i+1}')\n",
    "    df_list_returns = []\n",
    "    df_list_bets = []\n",
    "    for spread in spreads:\n",
    "        spread_list_returns = []\n",
    "        spread_list_bets = []\n",
    "        for count_key, count in counting_strategies.items():\n",
    "            returns = []\n",
    "            correct_bets = []\n",
    "            for trial in range(num_trials):\n",
    "                if i == 0:\n",
    "                    print_round = True\n",
    "                    print(f'------------------------------------------------------TRIAL {trial+1}------------------------------------------------------')\n",
    "                else:\n",
    "                    print_round = False\n",
    "                winnings = play_round(num_rounds, spread, count, print_round)[0]\n",
    "                corr_bets = play_round(num_rounds, spread, count, print_round)[1]\n",
    "                correct_bets.append(corr_bets)\n",
    "                returns.append(winnings)\n",
    "                i += 1\n",
    "            corr_bets_avg = sum(corr_bets) / len(corr_bets) * 100\n",
    "            returns_avg = sum(returns) / len(returns)\n",
    "            if returns_avg > max_returns:\n",
    "                max_returns = returns_avg\n",
    "                optimal = [spread, count_key]\n",
    "            spread_list_returns.append(returns_avg)\n",
    "            spread_list_bets.append(f'{round(corr_bets_avg, 2)}%')\n",
    "        df_list_returns.append(spread_list_returns)\n",
    "        df_list_bets.append(spread_list_bets)\n",
    "    df_returns = pd.DataFrame(df_list_returns, index=spreads, columns=column_names)\n",
    "    df_bets = pd.DataFrame(df_list_bets, index=spreads, columns=column_names)\n",
    "    print(max_returns)\n",
    "    \n",
    "    return df_returns, df_bets, optimal\n",
    "\n"
   ]
  },
  {
   "cell_type": "code",
   "execution_count": 179,
   "metadata": {},
   "outputs": [
    {
     "name": "stdout",
     "output_type": "stream",
     "text": [
      "12.6\n"
     ]
    },
    {
     "data": {
      "text/html": [
       "<div>\n",
       "<style scoped>\n",
       "    .dataframe tbody tr th:only-of-type {\n",
       "        vertical-align: middle;\n",
       "    }\n",
       "\n",
       "    .dataframe tbody tr th {\n",
       "        vertical-align: top;\n",
       "    }\n",
       "\n",
       "    .dataframe thead th {\n",
       "        text-align: right;\n",
       "    }\n",
       "</style>\n",
       "<table border=\"1\" class=\"dataframe\">\n",
       "  <thead>\n",
       "    <tr style=\"text-align: right;\">\n",
       "      <th></th>\n",
       "      <th>Counting Strategy 1</th>\n",
       "      <th>Counting Strategy 2</th>\n",
       "      <th>Counting Strategy 3</th>\n",
       "      <th>Counting Strategy 4</th>\n",
       "    </tr>\n",
       "  </thead>\n",
       "  <tbody>\n",
       "    <tr>\n",
       "      <th>6</th>\n",
       "      <td>-16.6</td>\n",
       "      <td>-1.6</td>\n",
       "      <td>0.2</td>\n",
       "      <td>-11.0</td>\n",
       "    </tr>\n",
       "    <tr>\n",
       "      <th>7</th>\n",
       "      <td>-15.5</td>\n",
       "      <td>-8.1</td>\n",
       "      <td>-0.2</td>\n",
       "      <td>0.3</td>\n",
       "    </tr>\n",
       "    <tr>\n",
       "      <th>8</th>\n",
       "      <td>-15.2</td>\n",
       "      <td>-4.7</td>\n",
       "      <td>12.6</td>\n",
       "      <td>-0.5</td>\n",
       "    </tr>\n",
       "    <tr>\n",
       "      <th>9</th>\n",
       "      <td>-10.5</td>\n",
       "      <td>8.2</td>\n",
       "      <td>4.8</td>\n",
       "      <td>-11.5</td>\n",
       "    </tr>\n",
       "    <tr>\n",
       "      <th>10</th>\n",
       "      <td>-13.7</td>\n",
       "      <td>-2.2</td>\n",
       "      <td>9.3</td>\n",
       "      <td>-2.7</td>\n",
       "    </tr>\n",
       "  </tbody>\n",
       "</table>\n",
       "</div>"
      ],
      "text/plain": [
       "    Counting Strategy 1  Counting Strategy 2  Counting Strategy 3  \\\n",
       "6                 -16.6                 -1.6                  0.2   \n",
       "7                 -15.5                 -8.1                 -0.2   \n",
       "8                 -15.2                 -4.7                 12.6   \n",
       "9                 -10.5                  8.2                  4.8   \n",
       "10                -13.7                 -2.2                  9.3   \n",
       "\n",
       "    Counting Strategy 4  \n",
       "6                 -11.0  \n",
       "7                   0.3  \n",
       "8                  -0.5  \n",
       "9                 -11.5  \n",
       "10                 -2.7  "
      ]
     },
     "execution_count": 179,
     "metadata": {},
     "output_type": "execute_result"
    }
   ],
   "source": [
    "spreads_to_test = [6,7,8,9,10]\n",
    "strat_to_test = {1:{'Ace': 2, 2:1, 3:1, 4:1, 5:-1, 6:-1, 7:-2, 8:-2, 9:-1, 10:-1, 11:-1, 12:1, 13:1},\n",
    "                 2:{'Ace': 2, 2:1, 3:1, 4:1, 5:-1, 6:-1, 7:-1, 8:-1, 9:-1, 10:-1, 11:-1, 12:1, 13:1},\n",
    "                 3:{'Ace': 2, 2:1, 3:1, 4:1, 5:-1, 6:-1, 7:-1, 8:-1, 9:-1, 10:1, 11:1, 12:1, 13:1},\n",
    "                 4:{'Ace': 2, 2:1, 3:1, 4:1, 5:1, 6:-1, 7:-1, 8:-1, 9:-1, 10:-1, 11:-1, 12:1, 13:1}}\n",
    "\n",
    "df_returns, df_bets, optimal = run_simulation(100, 30, strat_to_test, spreads_to_test)\n",
    "df_returns"
   ]
  },
  {
   "cell_type": "code",
   "execution_count": 180,
   "metadata": {},
   "outputs": [
    {
     "data": {
      "text/html": [
       "<div>\n",
       "<style scoped>\n",
       "    .dataframe tbody tr th:only-of-type {\n",
       "        vertical-align: middle;\n",
       "    }\n",
       "\n",
       "    .dataframe tbody tr th {\n",
       "        vertical-align: top;\n",
       "    }\n",
       "\n",
       "    .dataframe thead th {\n",
       "        text-align: right;\n",
       "    }\n",
       "</style>\n",
       "<table border=\"1\" class=\"dataframe\">\n",
       "  <thead>\n",
       "    <tr style=\"text-align: right;\">\n",
       "      <th></th>\n",
       "      <th>Counting Strategy 1</th>\n",
       "      <th>Counting Strategy 2</th>\n",
       "      <th>Counting Strategy 3</th>\n",
       "      <th>Counting Strategy 4</th>\n",
       "    </tr>\n",
       "  </thead>\n",
       "  <tbody>\n",
       "    <tr>\n",
       "      <th>6</th>\n",
       "      <td>81.45%</td>\n",
       "      <td>81.51%</td>\n",
       "      <td>81.57%</td>\n",
       "      <td>81.62%</td>\n",
       "    </tr>\n",
       "    <tr>\n",
       "      <th>7</th>\n",
       "      <td>81.65%</td>\n",
       "      <td>81.66%</td>\n",
       "      <td>81.69%</td>\n",
       "      <td>81.71%</td>\n",
       "    </tr>\n",
       "    <tr>\n",
       "      <th>8</th>\n",
       "      <td>81.71%</td>\n",
       "      <td>81.69%</td>\n",
       "      <td>81.68%</td>\n",
       "      <td>81.67%</td>\n",
       "    </tr>\n",
       "    <tr>\n",
       "      <th>9</th>\n",
       "      <td>81.63%</td>\n",
       "      <td>81.61%</td>\n",
       "      <td>81.58%</td>\n",
       "      <td>81.55%</td>\n",
       "    </tr>\n",
       "    <tr>\n",
       "      <th>10</th>\n",
       "      <td>81.49%</td>\n",
       "      <td>81.43%</td>\n",
       "      <td>81.37%</td>\n",
       "      <td>81.32%</td>\n",
       "    </tr>\n",
       "  </tbody>\n",
       "</table>\n",
       "</div>"
      ],
      "text/plain": [
       "   Counting Strategy 1 Counting Strategy 2 Counting Strategy 3  \\\n",
       "6               81.45%              81.51%              81.57%   \n",
       "7               81.65%              81.66%              81.69%   \n",
       "8               81.71%              81.69%              81.68%   \n",
       "9               81.63%              81.61%              81.58%   \n",
       "10              81.49%              81.43%              81.37%   \n",
       "\n",
       "   Counting Strategy 4  \n",
       "6               81.62%  \n",
       "7               81.71%  \n",
       "8               81.67%  \n",
       "9               81.55%  \n",
       "10              81.32%  "
      ]
     },
     "execution_count": 180,
     "metadata": {},
     "output_type": "execute_result"
    }
   ],
   "source": [
    "df_bets"
   ]
  },
  {
   "cell_type": "code",
   "execution_count": 181,
   "metadata": {},
   "outputs": [
    {
     "name": "stdout",
     "output_type": "stream",
     "text": [
      "Bet only spreads of 8 or greater using the counting strategy:\n",
      "{'Ace': 2, 2: 1, 3: 1, 4: 1, 5: -1, 6: -1, 7: -1, 8: -1, 9: -1, 10: 1, 11: 1, 12: 1, 13: 1}\n"
     ]
    }
   ],
   "source": [
    "print(f'Bet only spreads of {optimal[0]} or greater using the counting strategy:')\n",
    "print(strat_to_test[optimal[1]])"
   ]
  },
  {
   "cell_type": "code",
   "execution_count": null,
   "metadata": {},
   "outputs": [],
   "source": []
  }
 ],
 "metadata": {
  "kernelspec": {
   "display_name": "Python 3",
   "language": "python",
   "name": "python3"
  },
  "language_info": {
   "codemirror_mode": {
    "name": "ipython",
    "version": 3
   },
   "file_extension": ".py",
   "mimetype": "text/x-python",
   "name": "python",
   "nbconvert_exporter": "python",
   "pygments_lexer": "ipython3",
   "version": "3.8.5"
  }
 },
 "nbformat": 4,
 "nbformat_minor": 4
}
